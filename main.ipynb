{
 "cells": [
  {
   "cell_type": "markdown",
   "source": [
    "## Preamble\n",
    "\n",
    "Initialize some functions for better control of the code"
   ],
   "metadata": {
    "collapsed": false
   }
  },
  {
   "cell_type": "code",
   "execution_count": 51,
   "outputs": [],
   "source": [
    "import random\n",
    "\n",
    "import time\n",
    "from memory_profiler import memory_usage\n",
    "from IPython.display import display"
   ],
   "metadata": {
    "collapsed": false,
    "pycharm": {
     "name": "#%%\n"
    }
   }
  },
  {
   "cell_type": "code",
   "execution_count": 2,
   "outputs": [],
   "source": [
    "def timing(func, *args, **kwargs):\n",
    "    start = time.time_ns()\n",
    "    result = func(*args, **kwargs)\n",
    "    end = time.time_ns()\n",
    "    elapsed_ns = end - start\n",
    "    timestamp = str(elapsed_ns)\n",
    "    timestamp = timestamp.zfill((len(timestamp) // 3 + 1) * 3)\n",
    "    timestamp = ' '.join(timestamp[i:i+3] for i in range(0, len(timestamp), 3))\n",
    "    print(f'Time spent in {func.__name__} is {timestamp} ns')\n",
    "    return result\n",
    "\n",
    "def timing_wrap(func):\n",
    "    def wrapper(*args, **kwargs):\n",
    "        return timing(func, *args, **kwargs)\n",
    "    return wrapper"
   ],
   "metadata": {
    "collapsed": false,
    "pycharm": {
     "name": "#%%\n"
    }
   }
  },
  {
   "cell_type": "code",
   "execution_count": 3,
   "outputs": [],
   "source": [
    "def max_memory(func, *args, **kwargs):\n",
    "    mem_used, result = memory_usage((func, args, kwargs), retval=True)\n",
    "    print(f'Maximum memory usage in {func.__name__} is {max(mem_used)} MiB')\n",
    "    return result\n",
    "\n",
    "def max_memory_wrap(func):\n",
    "    def wrapper(*args, **kwargs):\n",
    "        return max_memory(func, *args, **kwargs)\n",
    "    return wrapper"
   ],
   "metadata": {
    "collapsed": false,
    "pycharm": {
     "name": "#%%\n"
    }
   }
  },
  {
   "cell_type": "markdown",
   "source": [
    "# 2. Introduction: theory and practice"
   ],
   "metadata": {
    "collapsed": false
   }
  },
  {
   "cell_type": "markdown",
   "source": [
    "### 2.2 Fibonacci numbers"
   ],
   "metadata": {
    "collapsed": false,
    "pycharm": {
     "name": "#%% md\n"
    }
   }
  },
  {
   "cell_type": "markdown",
   "source": [
    "#### Task 1\n",
    "\n",
    "Дано целое число $1 \\leq n \\leq 40$, необходимо вычислить $n$-е число Фибоначчи (напомним, что $F_0=0, F_1=1, F_n=F_{n-1}+F_{n-2}$ при $n\\geq2$).\n",
    "\n",
    "**Sample Input**:\n",
    "3\n",
    "\n",
    "**Sample Output**:\n",
    "2\n",
    "\n",
    "**Time Limit**: 3 секунды\n",
    "**Memory Limit**: 256 MB"
   ],
   "metadata": {
    "collapsed": false,
    "pycharm": {
     "name": "#%% md\n"
    }
   }
  },
  {
   "cell_type": "markdown",
   "source": [
    "##### Solution"
   ],
   "metadata": {
    "collapsed": false,
    "pycharm": {
     "name": "#%% md\n"
    }
   }
  },
  {
   "cell_type": "code",
   "execution_count": 4,
   "outputs": [],
   "source": [
    "def fib(n):\n",
    "    fib_values = [1, 1]\n",
    "    for i_n in range(2, n):\n",
    "        fib_values.append(fib_values[i_n-1] + fib_values[i_n-2])\n",
    "    return fib_values[n - 1]\n",
    "\n",
    "def main():\n",
    "    n = int(input())\n",
    "    print(fib(n))"
   ],
   "metadata": {
    "collapsed": false,
    "pycharm": {
     "name": "#%%\n"
    }
   }
  },
  {
   "cell_type": "markdown",
   "source": [
    "##### Checking"
   ],
   "metadata": {
    "collapsed": false,
    "pycharm": {
     "name": "#%% md\n"
    }
   }
  },
  {
   "cell_type": "code",
   "execution_count": 5,
   "outputs": [
    {
     "data": {
      "text/plain": "(1, 1, 2, 6765, 102334155)"
     },
     "execution_count": 5,
     "metadata": {},
     "output_type": "execute_result"
    }
   ],
   "source": [
    "fib(1), fib(2), fib(3), fib(20), fib(40)"
   ],
   "metadata": {
    "collapsed": false,
    "pycharm": {
     "name": "#%%\n"
    }
   }
  },
  {
   "cell_type": "markdown",
   "source": [
    "#### Task 2\n",
    "\n",
    "Дано число $1 \\leq n \\leq 10^7$, необходимо найти последнюю цифру $n$-го числа Фибоначчи.\n",
    "\n",
    "Как мы помним, числа Фибоначчи растут очень быстро, поэтому при их вычислении нужно быть аккуратным с переполнением. В данной задаче, впрочем, этой проблемы можно избежать, поскольку нас интересует только последняя цифра числа Фибоначчи: если $1 \\leq a, b \\leq 9$ — последние цифры чисел $F_i$ и $F_{i+1}$ соответственно, то $(a+b)\\ mod\\ 10$ — последняя цифра числа $F_{i+2}$\n",
    "\n",
    "**Sample Input**:\n",
    "841645\n",
    "\n",
    "**Sample Output**:\n",
    "5\n",
    "\n",
    "**Time Limit**: 3 секунды\n",
    "**Memory Limit**: 256 MB"
   ],
   "metadata": {
    "collapsed": false,
    "pycharm": {
     "name": "#%% md\n"
    }
   }
  },
  {
   "cell_type": "markdown",
   "source": [
    "##### Solution"
   ],
   "metadata": {
    "collapsed": false,
    "pycharm": {
     "name": "#%% md\n"
    }
   }
  },
  {
   "cell_type": "code",
   "execution_count": 6,
   "outputs": [],
   "source": [
    "def fib_digit(n):\n",
    "    n_2 = 1\n",
    "    n_1 = 1\n",
    "    n_0 = (n_2 + n_1) % 10\n",
    "    for i_n in range(2, n):\n",
    "        n_0 = (n_2 + n_1) % 10\n",
    "        n_2 = n_1\n",
    "        n_1 = n_0\n",
    "    return n_0\n",
    "\n",
    "\n",
    "def main():\n",
    "    n = int(input())\n",
    "    print(fib_digit(n))"
   ],
   "metadata": {
    "collapsed": false,
    "pycharm": {
     "name": "#%%\n"
    }
   }
  },
  {
   "cell_type": "markdown",
   "source": [
    "##### Checking"
   ],
   "metadata": {
    "collapsed": false,
    "pycharm": {
     "name": "#%% md\n"
    }
   }
  },
  {
   "cell_type": "code",
   "execution_count": 7,
   "outputs": [
    {
     "data": {
      "text/plain": "5"
     },
     "execution_count": 7,
     "metadata": {},
     "output_type": "execute_result"
    }
   ],
   "source": [
    "fib_digit(841645)"
   ],
   "metadata": {
    "collapsed": false,
    "pycharm": {
     "name": "#%%\n"
    }
   }
  },
  {
   "cell_type": "markdown",
   "source": [
    "#### Task 3\n",
    "\n",
    "Даны целые числа $1 \\leq n \\leq 10^{18}$ и $2 \\leq m \\leq 10^5$, необходимо найти остаток от деления $n$-го числа Фибоначчи на $m$.\n",
    "\n",
    "**Sample Input**:\n",
    "10 2\n",
    "\n",
    "**Sample Output**:\n",
    "1\n",
    "\n",
    "**Time Limit**: 3 секунды\n",
    "**Memory Limit**: 256 MB"
   ],
   "metadata": {
    "collapsed": false,
    "pycharm": {
     "name": "#%% md\n"
    }
   }
  },
  {
   "cell_type": "markdown",
   "source": [
    "##### Solution"
   ],
   "metadata": {
    "collapsed": false,
    "pycharm": {
     "name": "#%% md\n"
    }
   }
  },
  {
   "cell_type": "code",
   "execution_count": 8,
   "outputs": [],
   "source": [
    "def fib_mod(n, m):\n",
    "    v1, v2, v3 = 1, 1, 0\n",
    "\n",
    "    for rec in bin(n)[3:]: # Matrix Exponentiation\n",
    "        calc = (v2*v2) % m\n",
    "        v1, v2, v3 = (v1*v1+calc) % m, ((v1+v3)*v2) % m, (calc+v3*v3) % m\n",
    "        if rec == '1':\n",
    "            v1, v2, v3 = (v1+v2) % m, v1, v2\n",
    "\n",
    "    return v2\n",
    "\n",
    "    # previous solution\n",
    "    # fib_mods = [0, 1]\n",
    "    # prev, curr = 0, 1\n",
    "    #\n",
    "    # for i_n in range(6 * m):\n",
    "    #     prev, curr = curr, (prev + curr) % m\n",
    "    #     fib_mods.append(curr % m)\n",
    "    #     if fib_mods[-1] == 1 and fib_mods[-2] == 0:\n",
    "    #         break\n",
    "    # return fib_mods[n % (len(fib_mods)-2)]\n",
    "\n",
    "\n",
    "def main():\n",
    "    n, m = map(int, input().split())\n",
    "    print(fib_mod(n, m))"
   ],
   "metadata": {
    "collapsed": false,
    "pycharm": {
     "name": "#%%\n"
    }
   }
  },
  {
   "cell_type": "markdown",
   "source": [
    "##### Checking"
   ],
   "metadata": {
    "collapsed": false,
    "pycharm": {
     "name": "#%% md\n"
    }
   }
  },
  {
   "cell_type": "code",
   "execution_count": 9,
   "outputs": [
    {
     "name": "stdout",
     "output_type": "stream",
     "text": [
      "Time spent in fib_mod is 000 ns\n",
      "Time spent in fib_mod is 000 ns\n"
     ]
    },
    {
     "data": {
      "text/plain": "(1, 46875)"
     },
     "execution_count": 9,
     "metadata": {},
     "output_type": "execute_result"
    }
   ],
   "source": [
    "timing(fib_mod, 10, 2), timing(fib_mod, 10**18, 10**5)"
   ],
   "metadata": {
    "collapsed": false,
    "pycharm": {
     "name": "#%%\n"
    }
   }
  },
  {
   "cell_type": "markdown",
   "source": [
    "### 2.3 The greatest common divisor"
   ],
   "metadata": {
    "collapsed": false,
    "pycharm": {
     "name": "#%% md\n"
    }
   }
  },
  {
   "cell_type": "markdown",
   "source": [
    "#### Task 1\n",
    "\n",
    "По данным двум числам $1 \\leq a, b \\leq 2 * 10^9$ найдите их наибольший общий делитель.\n",
    "\n",
    "**Sample Input 1**:\n",
    "18 35\n",
    "\n",
    "**Sample Output 1**:\n",
    "1\n",
    "\n",
    "**Sample Input 2**:\n",
    "14159572 63967072\n",
    "\n",
    "**Sample Output 2**:\n",
    "4\n",
    "\n",
    "**Time Limit**: 3 секунды\n",
    "**Memory Limit**: 256 MB"
   ],
   "metadata": {
    "collapsed": false,
    "pycharm": {
     "name": "#%% md\n"
    }
   }
  },
  {
   "cell_type": "markdown",
   "source": [
    "##### Solution"
   ],
   "metadata": {
    "collapsed": false,
    "pycharm": {
     "name": "#%% md\n"
    }
   }
  },
  {
   "cell_type": "code",
   "execution_count": 10,
   "outputs": [],
   "source": [
    "def gcd(a, b):\n",
    "    if a == 0:\n",
    "        return b\n",
    "    if b == 0:\n",
    "        return a\n",
    "    if a >= b:\n",
    "        return gcd(a % b, b)\n",
    "    if b >= a:\n",
    "        return gcd(a, b % a)\n",
    "\n",
    "\n",
    "def main():\n",
    "    a, b = map(int, input().split())\n",
    "    print(gcd(a, b))"
   ],
   "metadata": {
    "collapsed": false,
    "pycharm": {
     "name": "#%%\n"
    }
   }
  },
  {
   "cell_type": "markdown",
   "source": [
    "##### Checking"
   ],
   "metadata": {
    "collapsed": false,
    "pycharm": {
     "name": "#%% md\n"
    }
   }
  },
  {
   "cell_type": "code",
   "execution_count": 11,
   "outputs": [
    {
     "name": "stdout",
     "output_type": "stream",
     "text": [
      "Time spent in gcd is 000 ns\n"
     ]
    },
    {
     "data": {
      "text/plain": "(1, 4)"
     },
     "execution_count": 11,
     "metadata": {},
     "output_type": "execute_result"
    }
   ],
   "source": [
    "gcd(18, 35), timing(gcd, 14159572, 63967072)"
   ],
   "metadata": {
    "collapsed": false,
    "pycharm": {
     "name": "#%%\n"
    }
   }
  },
  {
   "cell_type": "markdown",
   "source": [
    "### 2.4 O-notation\n",
    "\n",
    "Completed (without code)"
   ],
   "metadata": {
    "collapsed": false
   }
  },
  {
   "cell_type": "markdown",
   "source": [
    "# 4. Greedy algorithms. Theory and Problems"
   ],
   "metadata": {
    "collapsed": false,
    "pycharm": {
     "name": "#%% md\n"
    }
   }
  },
  {
   "cell_type": "markdown",
   "source": [
    "### 4.1 Introduction"
   ],
   "metadata": {
    "collapsed": false,
    "pycharm": {
     "name": "#%% md\n"
    }
   }
  },
  {
   "cell_type": "markdown",
   "source": [
    "#### Task 1\n",
    "\n",
    "По данным $n$ отрезкам необходимо найти множество точек минимального размера, для которого каждый из отрезков содержит хотя бы одну из точек.\n",
    "\n",
    "В первой строке дано число $1 \\leq n \\leq 100$ отрезков. Каждая из последующих $n$ строк содержит по два числа $0 \\leq l \\leq r \\leq 10^9$, задающих начало и конец отрезка. Выведите оптимальное число $m$ точек и сами $m$ точек. Если таких множеств точек несколько, выведите любое из них.\n",
    "\n",
    "**Sample Input 1**:\n",
    "3\n",
    "1 3\n",
    "2 5\n",
    "3 6\n",
    "\n",
    "**Sample Output 1**:\n",
    "1\n",
    "3\n",
    "\n",
    "**Sample Input 2**:\n",
    "4\n",
    "4 7\n",
    "1 3\n",
    "2 5\n",
    "5 6\n",
    "\n",
    "**Sample Output 2**:\n",
    "2\n",
    "3 6\n",
    "\n",
    "**Time Limit**: 1 секунда\n",
    "**Memory Limit**: 256 MB"
   ],
   "metadata": {
    "collapsed": false
   }
  },
  {
   "cell_type": "code",
   "source": [
    "def task_4_1_1(segments: list) -> list:\n",
    "    segments = sorted(segments, key=lambda x: x[1])\n",
    "    points = [segments.pop(0)[1]]\n",
    "    while len(segments) > 0:\n",
    "        segment = segments.pop(0)\n",
    "        if points[-1] < segment[0]:\n",
    "            points.append(segment[1])\n",
    "    return points\n",
    "\n",
    "def main():\n",
    "    segments_count = int(input())\n",
    "    segments = []\n",
    "    for _ in range(segments_count):\n",
    "        segments.append(\n",
    "            [int(point) for point in input().split()])\n",
    "    points = task_4_1_1(segments)\n",
    "    print(len(points))\n",
    "    print(' '.join(map(str, points)))"
   ],
   "metadata": {
    "collapsed": false,
    "pycharm": {
     "name": "#%%\n"
    }
   },
   "execution_count": 12,
   "outputs": []
  },
  {
   "cell_type": "code",
   "execution_count": 13,
   "outputs": [
    {
     "data": {
      "text/plain": "([3], [3, 6])"
     },
     "execution_count": 13,
     "metadata": {},
     "output_type": "execute_result"
    }
   ],
   "source": [
    "task_4_1_1([[1, 3], [2, 5], [3, 6]]), task_4_1_1([[4, 7], [1, 3], [2, 5], [5, 6]])"
   ],
   "metadata": {
    "collapsed": false,
    "pycharm": {
     "name": "#%%\n"
    }
   }
  },
  {
   "cell_type": "markdown",
   "source": [
    "#### Task 2\n",
    "\n",
    "Первая строка содержит количество предметов $1 \\leq n \\leq 10^3$ и вместимость рюкзака $0 \\leq W \\leq 2 * 10^6$. Каждая из следующих $n$ строк задаёт стоимость $0 \\leq c_i \\leq 2 * 10^6$ и объём $0 \\lt w_i \\leq 2 * 10^6$ предмета ($n, W, c_i, w_i$ — целые числа). Выведите максимальную стоимость частей предметов (от каждого предмета можно отделить любую часть, стоимость и объём при этом пропорционально уменьшатся), помещающихся в данный рюкзак, с точностью не менее трёх знаков после запятой.\n",
    "\n",
    "**Sample Input**:\n",
    "3 50\n",
    "60 20\n",
    "100 50\n",
    "120 30\n",
    "\n",
    "**Sample Output**:\n",
    "180.000\n",
    "\n",
    "**Time Limit**: 5 секунд\n",
    "**Memory Limit**: 256 MB"
   ],
   "metadata": {
    "collapsed": false,
    "pycharm": {
     "name": "#%% md\n"
    }
   }
  },
  {
   "cell_type": "code",
   "execution_count": 14,
   "outputs": [],
   "source": [
    "def task_4_1_2(items: list, backpack_size: int) -> list:\n",
    "    items = sorted(items, key=lambda x: -x[0])\n",
    "    backpack = 0\n",
    "    left = backpack_size\n",
    "    while left > 0 and len(items) > 0:\n",
    "        cost, weight = items.pop(0)\n",
    "        if weight > left:\n",
    "            backpack += cost * left\n",
    "        else:\n",
    "            backpack += cost * weight\n",
    "        left -= weight\n",
    "    return backpack\n",
    "\n",
    "def main():\n",
    "    item_count, backpack_size = map(int, input().split())\n",
    "    items_cost = []\n",
    "    for _ in range(item_count):\n",
    "        cost, weight = map(int, input().split())\n",
    "        items_cost.append([cost / weight, weight])\n",
    "    print(f'{task_4_1_2(items_cost, backpack_size): .3f}')"
   ],
   "metadata": {
    "collapsed": false,
    "pycharm": {
     "name": "#%%\n"
    }
   }
  },
  {
   "cell_type": "code",
   "execution_count": 15,
   "outputs": [
    {
     "data": {
      "text/plain": "(180.0, 280.0)"
     },
     "execution_count": 15,
     "metadata": {},
     "output_type": "execute_result"
    }
   ],
   "source": [
    "task_4_1_2([[3.0, 20], [2.0, 50], [4.0, 30]], 50), task_4_1_2([[3.0, 20], [2.0, 50], [4.0, 30]], 500)"
   ],
   "metadata": {
    "collapsed": false,
    "pycharm": {
     "name": "#%%\n"
    }
   }
  },
  {
   "cell_type": "markdown",
   "source": [
    "#### Task 3\n",
    "\n",
    "По данному числу $1 \\leq n \\leq 10^9$ найдите максимальное число $k$, для которого $n$ можно представить как сумму $k$ различных натуральных слагаемых. Выведите в первой строке число $k$, во второй — $k$ слагаемых.\n",
    "\n",
    "**Sample Input 1**:\n",
    "4\n",
    "\n",
    "**Sample Output 1**:\n",
    "2\n",
    "1 3\n",
    "\n",
    "**Sample Input 2**:\n",
    "6\n",
    "\n",
    "**Sample Output 2**:\n",
    "3\n",
    "1 2 3\n",
    "\n",
    "**Time Limit**: 5 секунд\n",
    "**Memory Limit**: 256 MB"
   ],
   "metadata": {
    "collapsed": false,
    "pycharm": {
     "name": "#%% md\n"
    }
   }
  },
  {
   "cell_type": "code",
   "execution_count": 16,
   "outputs": [],
   "source": [
    "def task_4_1_3(value: int) -> list:\n",
    "    if value in [1, 2]:\n",
    "        return [value]\n",
    "    sums = []\n",
    "    left = value\n",
    "    for i in range(1, value + 1):\n",
    "        if left >= 2*i + 1:\n",
    "            sums.append(i)\n",
    "            left -= i\n",
    "        else:\n",
    "            sums.append(left)\n",
    "            break\n",
    "\n",
    "    return sums\n",
    "\n",
    "def main():\n",
    "    sums = task_4_1_3(int(input()))\n",
    "    print(len(sums))\n",
    "    print(' '.join(map(str, sums)))"
   ],
   "metadata": {
    "collapsed": false,
    "pycharm": {
     "name": "#%%\n"
    }
   }
  },
  {
   "cell_type": "code",
   "execution_count": 17,
   "outputs": [
    {
     "data": {
      "text/plain": "([1, 3], [1, 2, 3, 8], [1, 2, 3, 4, 5], [1, 2, 6], [1, 2, 3])"
     },
     "execution_count": 17,
     "metadata": {},
     "output_type": "execute_result"
    }
   ],
   "source": [
    "task_4_1_3(4), task_4_1_3(14), task_4_1_3(15), task_4_1_3(9), task_4_1_3(6)"
   ],
   "metadata": {
    "collapsed": false,
    "pycharm": {
     "name": "#%%\n"
    }
   }
  },
  {
   "cell_type": "markdown",
   "source": [
    "### 4.2 Huffman Codes"
   ],
   "metadata": {
    "collapsed": false,
    "pycharm": {
     "name": "#%% md\n"
    }
   }
  },
  {
   "cell_type": "markdown",
   "source": [
    "#### Task 1\n",
    "\n",
    "По данной непустой строке ss длины не более $10^4$, состоящей из строчных букв латинского алфавита, постройте оптимальный беспрефиксный код. В первой строке выведите количество различных букв $k$, встречающихся в строке, и размер получившейся закодированной строки. В следующих kk строках запишите коды букв в формате \"letter: code\". В последней строке выведите закодированную строку.\n",
    "\n",
    "**Sample Input 1**:\n",
    "a\n",
    "\n",
    "**Sample Output 1**:\n",
    "1 1\n",
    "a: 0\n",
    "0\n",
    "\n",
    "**Sample Input 2**:\n",
    "abacabad\n",
    "\n",
    "**Sample Output 2**:\n",
    "4 14\n",
    "a: 0\n",
    "b: 10\n",
    "c: 110\n",
    "d: 111\n",
    "01001100100111\n",
    "\n",
    "**Time Limit**: 5 секунд\n",
    "**Memory Limit**: 256 MB"
   ],
   "metadata": {
    "collapsed": false
   }
  },
  {
   "cell_type": "code",
   "execution_count": 18,
   "outputs": [],
   "source": [
    "def task_4_2_1(string: str):\n",
    "\n",
    "    def encode():\n",
    "        result = \"\"\n",
    "        for ch in string:\n",
    "            result += haff[ch]\n",
    "        return result\n",
    "\n",
    "    chars = sorted(set(string))\n",
    "    if len(chars) == 1:\n",
    "        haff = {chars[0]: \"0\"}\n",
    "        return haff, encode()\n",
    "\n",
    "    ch_sort = [(ch, string.count(ch)) for ch in set(string)]\n",
    "    ch_sort.sort(key=lambda x: x[1])\n",
    "    haff = {ch: \"\" for ch in chars}\n",
    "\n",
    "    freq = []\n",
    "    while len(ch_sort) > 1:\n",
    "        l = ch_sort.pop(0)\n",
    "        r = ch_sort.pop(0)\n",
    "        freq.append((r[0], 0))\n",
    "        freq.append((l[0], 1))\n",
    "        ch_sort = [(r[0] + l[0], l[1] + r[1])] + ch_sort\n",
    "        ch_sort.sort(key=lambda x: x[1])\n",
    "\n",
    "    for str_, val in freq[::-1]:\n",
    "        for ch in str_:\n",
    "            haff[ch] += str(val)\n",
    "    return haff, encode()\n",
    "\n",
    "def main_4_2_1():\n",
    "    d_haff, encode_str = task_4_2_1(input())\n",
    "    print(len(d_haff), len(encode_str))\n",
    "    for k, v in d_haff.items():\n",
    "        print(k, v)\n",
    "    print(encode_str)"
   ],
   "metadata": {
    "collapsed": false,
    "pycharm": {
     "name": "#%%\n"
    }
   }
  },
  {
   "cell_type": "code",
   "execution_count": 19,
   "outputs": [
    {
     "data": {
      "text/plain": "(({'a': '0', 'b': '10', 'c': '110', 'd': '111'}, '01001100100111'),\n ({'a': '0'}, '0'))"
     },
     "execution_count": 19,
     "metadata": {},
     "output_type": "execute_result"
    }
   ],
   "source": [
    "task_4_2_1(\"abacabad\"), task_4_2_1(\"a\")"
   ],
   "metadata": {
    "collapsed": false,
    "pycharm": {
     "name": "#%%\n"
    }
   }
  },
  {
   "cell_type": "markdown",
   "source": [
    "#### Task 2\n",
    "\n",
    "Восстановите строку по её коду и беспрефиксному коду символов.\n",
    "\n",
    "В первой строке входного файла заданы два целых числа $k$ и $l$ через пробел — количество различных букв, встречающихся в строке, и размер получившейся закодированной строки, соответственно. В следующих $k$ строках записаны коды букв в формате \"letter: code\". Ни один код не является префиксом другого. Буквы могут быть перечислены в любом порядке. В качестве букв могут встречаться лишь строчные буквы латинского алфавита; каждая из этих букв встречается в строке хотя бы один раз. Наконец, в последней строке записана закодированная строка. Исходная строка и коды всех букв непусты. Заданный код таков, что закодированная строка имеет минимальный возможный размер.\n",
    "\n",
    "\n",
    "В первой строке выходного файла выведите строку ss. Она должна состоять из строчных букв латинского алфавита. Гарантируется, что длина правильного ответа не превосходит $10^4$ символов.\n",
    "\n",
    "**Sample Input 1**:\n",
    "1 1\n",
    "a: 0\n",
    "0\n",
    "\n",
    "**Sample Output 1**:\n",
    "a\n",
    "\n",
    "**Sample Input 2**:\n",
    "4 14\n",
    "a: 0\n",
    "b: 10\n",
    "c: 110\n",
    "d: 111\n",
    "01001100100111\n",
    "\n",
    "**Sample Output 2**:\n",
    "abacabad\n",
    "\n",
    "**Time Limit**: 5 секунд\n",
    "**Memory Limit**: 256 MB"
   ],
   "metadata": {
    "collapsed": false,
    "pycharm": {
     "name": "#%% md\n"
    }
   }
  },
  {
   "cell_type": "code",
   "execution_count": 20,
   "outputs": [],
   "source": [
    "def task_4_2_2(haff: dict, string: str):\n",
    "    result = \"\"\n",
    "    key = \"\"\n",
    "    for ch in string:\n",
    "        key += ch\n",
    "        if key in haff:\n",
    "            result += haff[key]\n",
    "            key = \"\"\n",
    "    return result\n",
    "\n",
    "def main_4_2_2():\n",
    "    len_haff, len_str = tuple(map(int, input().split()))\n",
    "    haff = {}\n",
    "    for _ in range(len_haff):\n",
    "        ch, code = input().split()\n",
    "        haff[code] = ch[:-1]\n",
    "    string = input()\n",
    "    print(task_4_2_2(haff, string))"
   ],
   "metadata": {
    "collapsed": false,
    "pycharm": {
     "name": "#%%\n"
    }
   }
  },
  {
   "cell_type": "code",
   "execution_count": 21,
   "outputs": [
    {
     "data": {
      "text/plain": "'abacabad'"
     },
     "execution_count": 21,
     "metadata": {},
     "output_type": "execute_result"
    }
   ],
   "source": [
    "task_4_2_2({'0': 'a', '10': 'b', '110': 'c', '111': 'd'}, \"01001100100111\")"
   ],
   "metadata": {
    "collapsed": false,
    "pycharm": {
     "name": "#%%\n"
    }
   }
  },
  {
   "cell_type": "markdown",
   "source": [
    "### 4.3 Priority queues"
   ],
   "metadata": {
    "collapsed": false,
    "pycharm": {
     "name": "#%% md\n"
    }
   }
  },
  {
   "cell_type": "markdown",
   "source": [
    "#### Task 1\n",
    "\n",
    "Первая строка входа содержит число операций $1 \\le n \\le 10^5$. Каждая из последующих nn строк задают операцию одного из следующих двух типов:\n",
    "\n",
    "${\\tt Insert}~{\\tt x}$, где $0 \\le x \\le 10^9$ -- целое число;\n",
    "${\\tt ExtractMax}$.\n",
    "Первая операция добавляет число $x$ в очередь с приоритетами, вторая — извлекает максимальное число и выводит его.\n",
    "\n",
    "**Sample Input**:\n",
    "6\n",
    "Insert 200\n",
    "Insert 10\n",
    "ExtractMax\n",
    "Insert 5\n",
    "Insert 500\n",
    "ExtractMax\n",
    "\n",
    "**Sample Output**:\n",
    "200\n",
    "500\n",
    "\n",
    "**Time Limit**: 3 секунды\n",
    "**Memory Limit**: 256 MB"
   ],
   "metadata": {
    "collapsed": false
   }
  },
  {
   "cell_type": "code",
   "execution_count": 22,
   "outputs": [],
   "source": [
    "commands = [\"Insert 200\", \"Insert 10\", \"ExtractMax\", \"Insert 5\", \"Insert 500\", \"ExtractMax\"]"
   ],
   "metadata": {
    "collapsed": false,
    "pycharm": {
     "name": "#%%\n"
    }
   }
  },
  {
   "cell_type": "code",
   "execution_count": 23,
   "outputs": [],
   "source": [
    "def t431_insert(queue: list, value: int):\n",
    "    queue.append(value)\n",
    "    if len(queue) == 1:\n",
    "        return queue\n",
    "\n",
    "    i = len(queue) - 1\n",
    "    parent = int((i - 1) / 2)\n",
    "    while i > 0 and queue[parent] < queue[i]:\n",
    "        queue[parent], queue[i] = queue[i], queue[parent]\n",
    "        i = parent\n",
    "        parent = int((i - 1) / 2)\n",
    "    return queue\n",
    "\n",
    "\n",
    "def t431_shift_down(queue: list, i_val):\n",
    "    l_ch, r_ch = 2 * i_val + 1, 2 * i_val + 2\n",
    "    l_more = l_ch < len(queue) and queue[i_val] < queue[l_ch]\n",
    "    r_more = r_ch < len(queue) and queue[i_val] < queue[r_ch]\n",
    "\n",
    "    if l_more and r_more:\n",
    "        if queue[l_ch] > queue[r_ch]:\n",
    "            i_change = l_ch\n",
    "        else:\n",
    "            i_change = r_ch\n",
    "    elif l_more:\n",
    "        i_change = l_ch\n",
    "    elif r_more:\n",
    "        i_change = r_ch\n",
    "    else:\n",
    "        return queue, i_val\n",
    "\n",
    "    queue[i_val], queue[i_change] = queue[i_change], queue[i_val]\n",
    "    return queue, i_change\n",
    "\n",
    "\n",
    "def t431_extract_max(queue: list):\n",
    "    if len(queue) == 1:\n",
    "        return [], queue[0]\n",
    "    max_val = queue[0]\n",
    "    queue[0] = queue.pop(-1)\n",
    "    i = 0\n",
    "    while i < len(queue) and not t431_check(queue, i):\n",
    "        queue, i = t431_shift_down(queue, i)\n",
    "    return queue, max_val\n",
    "\n",
    "\n",
    "def t431_check(queue: list, i_val: int):\n",
    "    l_ch, r_ch = 2 * i_val + 1, 2 * i_val + 2\n",
    "    if l_ch < len(queue) and queue[i_val] < queue[l_ch]:\n",
    "        return False\n",
    "    if r_ch < len(queue) and queue[i_val] < queue[r_ch]:\n",
    "        return False\n",
    "    return True\n",
    "\n",
    "\n",
    "def task_4_3_1(count: int):\n",
    "    queue = []\n",
    "    for i in range(count):\n",
    "        command = input()\n",
    "        if command == \"ExtractMax\":\n",
    "            queue, max_ = t431_extract_max(queue)\n",
    "            print(max_)\n",
    "        else:\n",
    "            queue = t431_insert(queue, int(command.split()[1]))\n",
    "\n",
    "def main_4_3_1():\n",
    "    task_4_3_1(int(input()))"
   ],
   "metadata": {
    "collapsed": false,
    "pycharm": {
     "name": "#%%\n"
    }
   }
  },
  {
   "cell_type": "code",
   "execution_count": 24,
   "outputs": [
    {
     "data": {
      "text/plain": "[200, 10, 20]"
     },
     "metadata": {},
     "output_type": "display_data"
    },
    {
     "data": {
      "text/plain": "[200, 200, 20, 10]"
     },
     "metadata": {},
     "output_type": "display_data"
    },
    {
     "data": {
      "text/plain": "[210, 200, 20, 10, 200]"
     },
     "metadata": {},
     "output_type": "display_data"
    },
    {
     "data": {
      "text/plain": "[210, 200, 30, 10, 200, 20]"
     },
     "metadata": {},
     "output_type": "display_data"
    }
   ],
   "source": [
    "display(t431_insert([20, 10], 200))\n",
    "display(t431_insert([200, 10, 20], 200))\n",
    "display(t431_insert([200, 200, 20, 10], 210))\n",
    "display(t431_insert([210, 200, 20, 10, 200], 30))"
   ],
   "metadata": {
    "collapsed": false,
    "pycharm": {
     "name": "#%%\n"
    }
   }
  },
  {
   "cell_type": "code",
   "execution_count": 25,
   "outputs": [
    {
     "data": {
      "text/plain": "([200, 200, 30, 10, 20], 210)"
     },
     "metadata": {},
     "output_type": "display_data"
    },
    {
     "data": {
      "text/plain": "([200, 30, 20, 10], 200)"
     },
     "metadata": {},
     "output_type": "display_data"
    },
    {
     "data": {
      "text/plain": "([30, 10, 20], 200)"
     },
     "metadata": {},
     "output_type": "display_data"
    },
    {
     "data": {
      "text/plain": "([], 20)"
     },
     "metadata": {},
     "output_type": "display_data"
    }
   ],
   "source": [
    "display(t431_extract_max([210, 200, 30, 10, 200, 20]))\n",
    "display(t431_extract_max([200, 30, 200, 10, 20]))\n",
    "display(t431_extract_max([200, 30, 20, 10]))\n",
    "display(t431_extract_max([20]))"
   ],
   "metadata": {
    "collapsed": false,
    "pycharm": {
     "name": "#%%\n"
    }
   }
  },
  {
   "cell_type": "markdown",
   "source": [
    "## 6 \"Divide and Conquer\". Theory and problems"
   ],
   "metadata": {
    "collapsed": false,
    "pycharm": {
     "name": "#%% md\n"
    }
   }
  },
  {
   "cell_type": "markdown",
   "source": [
    "### 6.1 Binary search"
   ],
   "metadata": {
    "collapsed": false,
    "pycharm": {
     "name": "#%% md\n"
    }
   }
  },
  {
   "cell_type": "markdown",
   "source": [
    "#### Task 1\n",
    "\n",
    "В первой строке даны целое число $1 \\le n \\le 10^5$ и массив $A[1 \\ldots n]$ из $n$ различных натуральных чисел, не превышающих $10^9$, в порядке возрастания, во второй — целое число $1 \\le k \\le 10^5$ и $k$k натуральных чисел $b_1, \\ldots, b_k$, не превышающих $10^9$. Для каждого $i$ от 1 до $k$ необходимо вывести индекс $1 \\le j \\le n$, для которого $A[j]=b_i$, или $-1$, если такого $j$ нет.\n",
    "\n",
    "**Sample Input**:\n",
    "5 1 5 8 12 13\n",
    "5 8 1 23 1 11\n",
    "\n",
    "**Sample Output**:\n",
    "3 1 -1 1 -1\n",
    "\n",
    "**Time Limit**: 3 секунды\n",
    "**Memory Limit**: 256 MB"
   ],
   "metadata": {
    "collapsed": false,
    "pycharm": {
     "name": "#%% md\n"
    }
   }
  },
  {
   "cell_type": "code",
   "execution_count": 26,
   "outputs": [],
   "source": [
    "def t611_binary_search(arr: list, value: int):\n",
    "    l, r = 0, len(arr) - 1\n",
    "    while l <= r:\n",
    "        m = (l + r) // 2\n",
    "        if arr[m] == value:\n",
    "            return m + 1\n",
    "        elif arr[m] > value:\n",
    "            r = m - 1\n",
    "        else:\n",
    "            l = m + 1\n",
    "    return -1\n",
    "\n",
    "\n",
    "def task_6_1_1():\n",
    "    _, *A = map(int, input().split())\n",
    "    _, *k = map(int, input().split())\n",
    "    print(*tuple(t611_binary_search(A, v) for v in k))"
   ],
   "metadata": {
    "collapsed": false,
    "pycharm": {
     "name": "#%%\n"
    }
   }
  },
  {
   "cell_type": "code",
   "execution_count": 27,
   "outputs": [
    {
     "data": {
      "text/plain": "[3, 1, -1, 1, -1]"
     },
     "metadata": {},
     "output_type": "display_data"
    },
    {
     "data": {
      "text/plain": "[3, 1, -1, 1, -1, 5, -1, 5, 1]"
     },
     "metadata": {},
     "output_type": "display_data"
    }
   ],
   "source": [
    "display([t611_binary_search([1, 5, 8, 12, 13], v) for v in [8, 1, 23, 1, 11]])\n",
    "display([t611_binary_search([1, 5, 8, 12, 13], v) for v in [8, 1, 23, 1, 11, 13, 15, 13, 1]])"
   ],
   "metadata": {
    "collapsed": false,
    "pycharm": {
     "name": "#%%\n"
    }
   }
  },
  {
   "cell_type": "markdown",
   "source": [
    "### 6.4 Merge sorting"
   ],
   "metadata": {
    "collapsed": false,
    "pycharm": {
     "name": "#%% md\n"
    }
   }
  },
  {
   "cell_type": "markdown",
   "source": [
    "#### Task 1\n",
    "\n",
    "Первая строка содержит число $1 \\le n \\le 10^5$, вторая — массив $A[1 \\ldots n]$, содержащий натуральные числа, не превосходящие $10^9$. Необходимо посчитать число пар индексов $1 \\le i \\lt j \\le n$, для которых $A[i] \\gt A[j]$. (Такая пара элементов называется инверсией массива. Количество инверсий в массиве является в некотором смысле его мерой неупорядоченности: например, в упорядоченном по неубыванию массиве инверсий нет вообще, а в массиве, упорядоченном по убыванию, инверсию образуют каждые два элемента.)\n",
    "\n",
    "**Sample Input**:\n",
    "5\n",
    "2 3 9 2 9\n",
    "\n",
    "**Sample Output**:\n",
    "2\n",
    "\n",
    "**Time Limit**: 3 секунды\n",
    "**Memory Limit**: 256 MB"
   ],
   "metadata": {
    "collapsed": false,
    "pycharm": {
     "name": "#%% md\n"
    }
   }
  },
  {
   "cell_type": "code",
   "execution_count": 28,
   "outputs": [],
   "source": [
    "def count_inversions(array, length):\n",
    "    temp_array = [0] * length\n",
    "    return _count(array, temp_array, 0, length - 1)\n",
    "\n",
    "def _count(array, temp_array, i_left, i_right):\n",
    "    inverions = 0\n",
    "    if i_left < i_right:\n",
    "        i_mid = (i_left + i_right) // 2\n",
    "        inverions += _count(array, temp_array,\n",
    "                            i_left, i_mid)\n",
    "        inverions += _count(array, temp_array,\n",
    "                            i_mid + 1, i_right)\n",
    "        inverions += merge_and_count(\n",
    "            array, temp_array, i_left, i_mid, i_right\n",
    "        )\n",
    "    return inverions\n",
    "\n",
    "\n",
    "def merge_and_count(array, temp_array, i_left, i_mid, i_right):\n",
    "    i_l = i_left\n",
    "    i_m = i_mid + 1\n",
    "    i_r = i_left\n",
    "    inversions = 0\n",
    "\n",
    "    while i_l <= i_mid and i_m <= i_right:\n",
    "        if array[i_l] <= array[i_m]:\n",
    "            temp_array[i_r] = array[i_l]\n",
    "            i_r += 1\n",
    "            i_l += 1\n",
    "        else:\n",
    "            temp_array[i_r] = array[i_m]\n",
    "            inversions += (i_mid - i_l + 1)\n",
    "            i_r += 1\n",
    "            i_m += 1\n",
    "\n",
    "    while i_l <= i_mid:\n",
    "        temp_array[i_r] = array[i_l]\n",
    "        i_r += 1\n",
    "        i_l += 1\n",
    "    while i_m <= i_right:\n",
    "        temp_array[i_r] = array[i_m]\n",
    "        i_r += 1\n",
    "        i_m += 1\n",
    "\n",
    "    for index in range(i_left, i_right + 1):\n",
    "        array[index] = temp_array[index]\n",
    "    return inversions\n",
    "\n",
    "\n",
    "def task_6_4_1():\n",
    "    len_ = int(input())\n",
    "    arr = list(map(int, input().split()))\n",
    "    print(count_inversions(arr, len_) if len(arr) > 1 else 0)"
   ],
   "metadata": {
    "collapsed": false,
    "pycharm": {
     "name": "#%%\n"
    }
   }
  },
  {
   "cell_type": "code",
   "execution_count": 29,
   "outputs": [
    {
     "data": {
      "text/plain": "2"
     },
     "metadata": {},
     "output_type": "display_data"
    },
    {
     "data": {
      "text/plain": "15"
     },
     "metadata": {},
     "output_type": "display_data"
    }
   ],
   "source": [
    "display(count_inversions([2, 3, 9, 2, 9], 5))\n",
    "display(count_inversions([1, 2, 3, 4, 5, 6, 7, 8, 3, 4, 3], 11))"
   ],
   "metadata": {
    "collapsed": false,
    "pycharm": {
     "name": "#%%\n"
    }
   }
  },
  {
   "cell_type": "markdown",
   "source": [
    "### 6.5 Fast sorting"
   ],
   "metadata": {
    "collapsed": false,
    "pycharm": {
     "name": "#%% md\n"
    }
   }
  },
  {
   "cell_type": "markdown",
   "source": [
    "#### Task 1\n",
    "\n",
    "В первой строке задано два целых числа $1 \\le n \\le 50000$ и $1 \\le m \\le 50000$ — количество отрезков и точек на прямой, соответственно. Следующие $n$ строк содержат по два целых числа $a_i$ и $b_i$ ($a_i \\le b_i$) — координаты концов отрезков. Последняя строка содержит $m$ целых чисел — координаты точек. Все координаты не превышают $10^8$ по модулю. Точка считается принадлежащей отрезку, если она находится внутри него или на границе. Для каждой точки в порядке появления во вводе выведите, скольким отрезкам она принадлежит.\n",
    "\n",
    "**Sample Input**:\n",
    "2 3\n",
    "0 5\n",
    "7 10\n",
    "1 6 11\n",
    "\n",
    "**Sample Output**:\n",
    "1 0 0\n",
    "\n",
    "**Time Limit**: 3 секунды\n",
    "**Memory Limit**: 256 MB"
   ],
   "metadata": {
    "collapsed": false
   }
  },
  {
   "cell_type": "code",
   "execution_count": 152,
   "outputs": [],
   "source": [
    "# def quick_sorting(arr: list[int], s: int, e: int) -> list[int]: # old solution\n",
    "#     if len(arr) <= 1:\n",
    "#         return arr\n",
    "#\n",
    "#     l, r = s, e\n",
    "#     med = arr[(l + r) // 2]\n",
    "#\n",
    "#     while l <= r:\n",
    "#\n",
    "#         while arr[l] < med:\n",
    "#             l += 1\n",
    "#         while arr[r] > med:\n",
    "#             r -= 1\n",
    "#\n",
    "#         if l <= r:\n",
    "#             v = arr[l]\n",
    "#             arr[l] = arr[r]\n",
    "#             arr[r] = v\n",
    "#             l += 1\n",
    "#             r -= 1\n",
    "#\n",
    "#     if s < r:\n",
    "#         quick_sorting(arr, s, r)\n",
    "#     if e > l:\n",
    "#         quick_sorting(arr, l, e)\n",
    "#\n",
    "#     return arr\n",
    "\n",
    "def quick_sorting(arr: list[int]) -> list[int]:\n",
    "    if len(arr) <= 1:\n",
    "        return arr\n",
    "\n",
    "    smaller, equal, greater = [], [], []\n",
    "    mid = arr[len(arr) // 2]\n",
    "    for x in arr:\n",
    "        if x == mid:\n",
    "            equal.append(x)\n",
    "        elif x < mid:\n",
    "            smaller.append(x)\n",
    "        else:\n",
    "            greater.append(x)\n",
    "    return quick_sorting(smaller) + equal + quick_sorting(greater)\n",
    "\n",
    "\n",
    "def t651_count_occurrence(\n",
    "        starts: list[int], ends: list[int], points: list[int]\n",
    ") -> list[int]:\n",
    "\n",
    "    starts = quick_sorting(starts)\n",
    "    ends = quick_sorting(ends)\n",
    "\n",
    "    n_cross = [0] * len(points)\n",
    "\n",
    "    for i_p, p in enumerate(points):\n",
    "\n",
    "        n, r = 0, len(starts) - 1\n",
    "        while n <= r:\n",
    "            i = (n + r) // 2\n",
    "            if starts[i] <= p:\n",
    "                n = i + 1\n",
    "            else:\n",
    "                r = i - 1\n",
    "\n",
    "        m, r = 0, len(ends) - 1\n",
    "        while m <= r:\n",
    "            i = (m + r) // 2\n",
    "            if ends[i] < p:\n",
    "                m = i + 1\n",
    "            else:\n",
    "                r = i - 1\n",
    "\n",
    "        n_cross[i_p] = n - m\n",
    "\n",
    "\n",
    "    return n_cross\n",
    "\n",
    "\n",
    "def task_6_5_1():\n",
    "    n, m = list(map(int, input().split()))\n",
    "    starts, ends = [], []\n",
    "    for _ in range(n):\n",
    "        s, e = list(map(int, input().split()))\n",
    "        starts.append(s)\n",
    "        ends.append(e)\n",
    "    points = list(map(int, input().split()))\n",
    "\n",
    "    print(\" \".join(str(v) for v in t651_count_occurrence(starts, ends, points)))"
   ],
   "metadata": {
    "collapsed": false,
    "pycharm": {
     "name": "#%%\n"
    }
   }
  },
  {
   "cell_type": "code",
   "execution_count": 157,
   "outputs": [
    {
     "name": "stdout",
     "output_type": "stream",
     "text": [
      "Time spent in t651_count_occurrence is 000 214 782 300 ns\n"
     ]
    },
    {
     "data": {
      "text/plain": "[1, 0, 0]"
     },
     "metadata": {},
     "output_type": "display_data"
    },
    {
     "data": {
      "text/plain": "[2, 3, 6, 3, 2, 1]"
     },
     "metadata": {},
     "output_type": "display_data"
    }
   ],
   "source": [
    "size = 50000\n",
    "st = [int(random.uniform(0, 10**8)) for _ in range(size)]\n",
    "en = [int(random.uniform(0, 10**8)) for _ in range(size)]\n",
    "ps = [int(random.uniform(0, 10**8)) for _ in range(size)]\n",
    "\n",
    "timing(t651_count_occurrence, st, en, ps)\n",
    "\n",
    "display(t651_count_occurrence([0, 7], [5, 10], [1, 6, 11]))\n",
    "display(t651_count_occurrence([0, 1, 2, 3, 3, 3], [3, 3, 3, 4, 5, 6], [1, 2, 3, 4, 5, 6])) # must be 2 3 6 3 2 1"
   ],
   "metadata": {
    "collapsed": false,
    "pycharm": {
     "name": "#%%\n"
    }
   }
  },
  {
   "cell_type": "code",
   "execution_count": null,
   "outputs": [],
   "source": [],
   "metadata": {
    "collapsed": false,
    "pycharm": {
     "name": "#%%\n"
    }
   }
  }
 ],
 "metadata": {
  "kernelspec": {
   "display_name": "Python 3",
   "language": "python",
   "name": "python3"
  },
  "language_info": {
   "codemirror_mode": {
    "name": "ipython",
    "version": 2
   },
   "file_extension": ".py",
   "mimetype": "text/x-python",
   "name": "python",
   "nbconvert_exporter": "python",
   "pygments_lexer": "ipython2",
   "version": "2.7.6"
  }
 },
 "nbformat": 4,
 "nbformat_minor": 0
}