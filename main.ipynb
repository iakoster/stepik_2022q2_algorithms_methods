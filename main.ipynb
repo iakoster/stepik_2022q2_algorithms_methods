{
 "cells": [
  {
   "cell_type": "markdown",
   "source": [
    "## Preamble\n",
    "\n",
    "Initialize some functions for better control of the code"
   ],
   "metadata": {
    "collapsed": false
   }
  },
  {
   "cell_type": "code",
   "execution_count": 2,
   "outputs": [],
   "source": [
    "import time\n",
    "from memory_profiler import memory_usage"
   ],
   "metadata": {
    "collapsed": false,
    "pycharm": {
     "name": "#%%\n"
    }
   }
  },
  {
   "cell_type": "code",
   "execution_count": 3,
   "outputs": [],
   "source": [
    "def timing(func, *args, **kwargs):\n",
    "    start = time.time_ns()\n",
    "    result = func(*args, **kwargs)\n",
    "    end = time.time_ns()\n",
    "    elapsed_ns = end - start\n",
    "    timestamp = str(elapsed_ns)\n",
    "    timestamp = timestamp.zfill((len(timestamp) // 3 + 1) * 3)\n",
    "    timestamp = ' '.join(timestamp[i:i+3] for i in range(0, len(timestamp), 3))\n",
    "    print(f'Time spent in {func.__name__} is {timestamp} ns')\n",
    "    return result\n",
    "\n",
    "def timing_wrap(func):\n",
    "    def wrapper(*args, **kwargs):\n",
    "        return timing(func, *args, **kwargs)\n",
    "    return wrapper"
   ],
   "metadata": {
    "collapsed": false,
    "pycharm": {
     "name": "#%%\n"
    }
   }
  },
  {
   "cell_type": "code",
   "execution_count": 4,
   "outputs": [],
   "source": [
    "def max_memory(func, *args, **kwargs):\n",
    "    mem_used, result = memory_usage((func, args, kwargs), retval=True)\n",
    "    print(f'Maximum memory usage in {func.__name__} is {max(mem_used)} MiB')\n",
    "    return result\n",
    "\n",
    "def max_memory_wrap(func):\n",
    "    def wrapper(*args, **kwargs):\n",
    "        return max_memory(func, *args, **kwargs)\n",
    "    return wrapper"
   ],
   "metadata": {
    "collapsed": false,
    "pycharm": {
     "name": "#%%\n"
    }
   }
  },
  {
   "cell_type": "markdown",
   "source": [
    "# 2. Introduction: theory and practice"
   ],
   "metadata": {
    "collapsed": false
   }
  },
  {
   "cell_type": "markdown",
   "source": [
    "### 2.2 Fibonacci numbers"
   ],
   "metadata": {
    "collapsed": false,
    "pycharm": {
     "name": "#%% md\n"
    }
   }
  },
  {
   "cell_type": "markdown",
   "source": [
    "#### Task 1\n",
    "\n",
    "Дано целое число $1 \\leq n \\leq 40$, необходимо вычислить $n$-е число Фибоначчи (напомним, что $F_0=0, F_1=1, F_n=F_{n-1}+F_{n-2}$ при $n\\geq2$).\n",
    "\n",
    "**Sample Input**:\n",
    "3\n",
    "\n",
    "**Sample Output**:\n",
    "2\n",
    "\n",
    "**Time Limit**: 3 секунды\n",
    "**Memory Limit**: 256 MB"
   ],
   "metadata": {
    "collapsed": false,
    "pycharm": {
     "name": "#%% md\n"
    }
   }
  },
  {
   "cell_type": "markdown",
   "source": [
    "##### Solution"
   ],
   "metadata": {
    "collapsed": false,
    "pycharm": {
     "name": "#%% md\n"
    }
   }
  },
  {
   "cell_type": "code",
   "execution_count": 5,
   "outputs": [],
   "source": [
    "def fib(n):\n",
    "    fib_values = [1, 1]\n",
    "    for i_n in range(2, n):\n",
    "        fib_values.append(fib_values[i_n-1] + fib_values[i_n-2])\n",
    "    return fib_values[n - 1]\n",
    "\n",
    "def main():\n",
    "    n = int(input())\n",
    "    print(fib(n))"
   ],
   "metadata": {
    "collapsed": false,
    "pycharm": {
     "name": "#%%\n"
    }
   }
  },
  {
   "cell_type": "markdown",
   "source": [
    "##### Checking"
   ],
   "metadata": {
    "collapsed": false,
    "pycharm": {
     "name": "#%% md\n"
    }
   }
  },
  {
   "cell_type": "code",
   "execution_count": 6,
   "outputs": [
    {
     "data": {
      "text/plain": "(1, 1, 2, 6765, 102334155)"
     },
     "execution_count": 6,
     "metadata": {},
     "output_type": "execute_result"
    }
   ],
   "source": [
    "fib(1), fib(2), fib(3), fib(20), fib(40)"
   ],
   "metadata": {
    "collapsed": false,
    "pycharm": {
     "name": "#%%\n"
    }
   }
  },
  {
   "cell_type": "markdown",
   "source": [
    "#### Task 2\n",
    "\n",
    "Дано число $1 \\leq n \\leq 10^7$, необходимо найти последнюю цифру $n$-го числа Фибоначчи.\n",
    "\n",
    "Как мы помним, числа Фибоначчи растут очень быстро, поэтому при их вычислении нужно быть аккуратным с переполнением. В данной задаче, впрочем, этой проблемы можно избежать, поскольку нас интересует только последняя цифра числа Фибоначчи: если $1 \\leq a, b \\leq 9$ — последние цифры чисел $F_i$ и $F_{i+1}$ соответственно, то $(a+b)\\ mod\\ 10$ — последняя цифра числа $F_{i+2}$\n",
    "\n",
    "**Sample Input**:\n",
    "841645\n",
    "\n",
    "**Sample Output**:\n",
    "5\n",
    "\n",
    "**Time Limit**: 3 секунды\n",
    "**Memory Limit**: 256 MB"
   ],
   "metadata": {
    "collapsed": false,
    "pycharm": {
     "name": "#%% md\n"
    }
   }
  },
  {
   "cell_type": "markdown",
   "source": [
    "##### Solution"
   ],
   "metadata": {
    "collapsed": false,
    "pycharm": {
     "name": "#%% md\n"
    }
   }
  },
  {
   "cell_type": "code",
   "execution_count": 7,
   "outputs": [],
   "source": [
    "def fib_digit(n):\n",
    "    n_2 = 1\n",
    "    n_1 = 1\n",
    "    n_0 = (n_2 + n_1) % 10\n",
    "    for i_n in range(2, n):\n",
    "        n_0 = (n_2 + n_1) % 10\n",
    "        n_2 = n_1\n",
    "        n_1 = n_0\n",
    "    return n_0\n",
    "\n",
    "\n",
    "def main():\n",
    "    n = int(input())\n",
    "    print(fib_digit(n))"
   ],
   "metadata": {
    "collapsed": false,
    "pycharm": {
     "name": "#%%\n"
    }
   }
  },
  {
   "cell_type": "markdown",
   "source": [
    "##### Checking"
   ],
   "metadata": {
    "collapsed": false,
    "pycharm": {
     "name": "#%% md\n"
    }
   }
  },
  {
   "cell_type": "code",
   "execution_count": 8,
   "outputs": [
    {
     "data": {
      "text/plain": "5"
     },
     "execution_count": 8,
     "metadata": {},
     "output_type": "execute_result"
    }
   ],
   "source": [
    "fib_digit(841645)"
   ],
   "metadata": {
    "collapsed": false,
    "pycharm": {
     "name": "#%%\n"
    }
   }
  },
  {
   "cell_type": "markdown",
   "source": [
    "#### Task 3\n",
    "\n",
    "Даны целые числа $1 \\leq n \\leq 10^{18}$ и $2 \\leq m \\leq 10^5$, необходимо найти остаток от деления $n$-го числа Фибоначчи на $m$.\n",
    "\n",
    "**Sample Input**:\n",
    "10 2\n",
    "\n",
    "**Sample Output**:\n",
    "1\n",
    "\n",
    "**Time Limit**: 3 секунды\n",
    "**Memory Limit**: 256 MB"
   ],
   "metadata": {
    "collapsed": false,
    "pycharm": {
     "name": "#%% md\n"
    }
   }
  },
  {
   "cell_type": "markdown",
   "source": [
    "##### Solution"
   ],
   "metadata": {
    "collapsed": false,
    "pycharm": {
     "name": "#%% md\n"
    }
   }
  },
  {
   "cell_type": "code",
   "execution_count": 9,
   "outputs": [],
   "source": [
    "def fib_mod(n, m):\n",
    "    v1, v2, v3 = 1, 1, 0\n",
    "\n",
    "    for rec in bin(n)[3:]: # Matrix Exponentiation\n",
    "        calc = (v2*v2) % m\n",
    "        v1, v2, v3 = (v1*v1+calc) % m, ((v1+v3)*v2) % m, (calc+v3*v3) % m\n",
    "        if rec == '1':\n",
    "            v1, v2, v3 = (v1+v2) % m, v1, v2\n",
    "\n",
    "    return v2\n",
    "\n",
    "    # previous solution\n",
    "    # fib_mods = [0, 1]\n",
    "    # prev, curr = 0, 1\n",
    "    #\n",
    "    # for i_n in range(6 * m):\n",
    "    #     prev, curr = curr, (prev + curr) % m\n",
    "    #     fib_mods.append(curr % m)\n",
    "    #     if fib_mods[-1] == 1 and fib_mods[-2] == 0:\n",
    "    #         break\n",
    "    # return fib_mods[n % (len(fib_mods)-2)]\n",
    "\n",
    "\n",
    "def main():\n",
    "    n, m = map(int, input().split())\n",
    "    print(fib_mod(n, m))"
   ],
   "metadata": {
    "collapsed": false,
    "pycharm": {
     "name": "#%%\n"
    }
   }
  },
  {
   "cell_type": "markdown",
   "source": [
    "##### Checking"
   ],
   "metadata": {
    "collapsed": false,
    "pycharm": {
     "name": "#%% md\n"
    }
   }
  },
  {
   "cell_type": "code",
   "execution_count": 10,
   "outputs": [
    {
     "name": "stdout",
     "output_type": "stream",
     "text": [
      "Time spent in fib_mod is 000 ns\n",
      "Time spent in fib_mod is 000 ns\n"
     ]
    },
    {
     "data": {
      "text/plain": "(1, 46875)"
     },
     "execution_count": 10,
     "metadata": {},
     "output_type": "execute_result"
    }
   ],
   "source": [
    "timing(fib_mod, 10, 2), timing(fib_mod, 10**18, 10**5)"
   ],
   "metadata": {
    "collapsed": false,
    "pycharm": {
     "name": "#%%\n"
    }
   }
  },
  {
   "cell_type": "markdown",
   "source": [
    "### 2.3 The greatest common divisor"
   ],
   "metadata": {
    "collapsed": false,
    "pycharm": {
     "name": "#%% md\n"
    }
   }
  },
  {
   "cell_type": "markdown",
   "source": [
    "#### Task 1\n",
    "\n",
    "По данным двум числам $1 \\leq a, b \\leq 2 * 10^9$ найдите их наибольший общий делитель.\n",
    "\n",
    "**Sample Input 1**:\n",
    "18 35\n",
    "\n",
    "**Sample Output 1**:\n",
    "1\n",
    "\n",
    "**Sample Input 2**:\n",
    "14159572 63967072\n",
    "\n",
    "**Sample Output 2**:\n",
    "4\n",
    "\n",
    "**Time Limit**: 3 секунды\n",
    "**Memory Limit**: 256 MB"
   ],
   "metadata": {
    "collapsed": false,
    "pycharm": {
     "name": "#%% md\n"
    }
   }
  },
  {
   "cell_type": "markdown",
   "source": [
    "##### Solution"
   ],
   "metadata": {
    "collapsed": false,
    "pycharm": {
     "name": "#%% md\n"
    }
   }
  },
  {
   "cell_type": "code",
   "execution_count": 11,
   "outputs": [],
   "source": [
    "def gcd(a, b):\n",
    "    if a == 0:\n",
    "        return b\n",
    "    if b == 0:\n",
    "        return a\n",
    "    if a >= b:\n",
    "        return gcd(a % b, b)\n",
    "    if b >= a:\n",
    "        return gcd(a, b % a)\n",
    "\n",
    "\n",
    "def main():\n",
    "    a, b = map(int, input().split())\n",
    "    print(gcd(a, b))"
   ],
   "metadata": {
    "collapsed": false,
    "pycharm": {
     "name": "#%%\n"
    }
   }
  },
  {
   "cell_type": "markdown",
   "source": [
    "##### Checking"
   ],
   "metadata": {
    "collapsed": false,
    "pycharm": {
     "name": "#%% md\n"
    }
   }
  },
  {
   "cell_type": "code",
   "execution_count": 14,
   "outputs": [
    {
     "name": "stdout",
     "output_type": "stream",
     "text": [
      "Time spent in gcd is 000 ns\n"
     ]
    },
    {
     "data": {
      "text/plain": "(1, 4)"
     },
     "execution_count": 14,
     "metadata": {},
     "output_type": "execute_result"
    }
   ],
   "source": [
    "gcd(18, 35), timing(gcd, 14159572, 63967072)"
   ],
   "metadata": {
    "collapsed": false,
    "pycharm": {
     "name": "#%%\n"
    }
   }
  },
  {
   "cell_type": "code",
   "execution_count": null,
   "outputs": [],
   "source": [],
   "metadata": {
    "collapsed": false,
    "pycharm": {
     "name": "#%%\n"
    }
   }
  }
 ],
 "metadata": {
  "kernelspec": {
   "display_name": "Python 3",
   "language": "python",
   "name": "python3"
  },
  "language_info": {
   "codemirror_mode": {
    "name": "ipython",
    "version": 2
   },
   "file_extension": ".py",
   "mimetype": "text/x-python",
   "name": "python",
   "nbconvert_exporter": "python",
   "pygments_lexer": "ipython2",
   "version": "2.7.6"
  }
 },
 "nbformat": 4,
 "nbformat_minor": 0
}