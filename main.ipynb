{
 "cells": [
  {
   "cell_type": "markdown",
   "source": [
    "## Preamble\n",
    "\n",
    "Initialize some functions for better control of the code"
   ],
   "metadata": {
    "collapsed": false
   }
  },
  {
   "cell_type": "code",
   "execution_count": 1,
   "outputs": [],
   "source": [
    "import time\n",
    "from memory_profiler import memory_usage"
   ],
   "metadata": {
    "collapsed": false,
    "pycharm": {
     "name": "#%%\n"
    }
   }
  },
  {
   "cell_type": "code",
   "execution_count": 2,
   "outputs": [],
   "source": [
    "def timing(func, *args, **kwargs):\n",
    "    start = time.time_ns()\n",
    "    result = func(*args, **kwargs)\n",
    "    end = time.time_ns()\n",
    "    elapsed_ns = end - start\n",
    "    timestamp = str(elapsed_ns)\n",
    "    timestamp = timestamp.zfill((len(timestamp) // 3 + 1) * 3)\n",
    "    timestamp = ' '.join(timestamp[i:i+3] for i in range(0, len(timestamp), 3))\n",
    "    print(f'Time spent in {func.__name__} is {timestamp} ns')\n",
    "    return result\n",
    "\n",
    "def timing_wrap(func):\n",
    "    def wrapper(*args, **kwargs):\n",
    "        return timing(func, *args, **kwargs)\n",
    "    return wrapper"
   ],
   "metadata": {
    "collapsed": false,
    "pycharm": {
     "name": "#%%\n"
    }
   }
  },
  {
   "cell_type": "code",
   "execution_count": 3,
   "outputs": [],
   "source": [
    "def max_memory(func, *args, **kwargs):\n",
    "    mem_used, result = memory_usage((func, args, kwargs), retval=True)\n",
    "    print(f'Maximum memory usage in {func.__name__} is {max(mem_used)} MiB')\n",
    "    return result\n",
    "\n",
    "def max_memory_wrap(func):\n",
    "    def wrapper(*args, **kwargs):\n",
    "        return max_memory(func, *args, **kwargs)\n",
    "    return wrapper"
   ],
   "metadata": {
    "collapsed": false,
    "pycharm": {
     "name": "#%%\n"
    }
   }
  },
  {
   "cell_type": "markdown",
   "source": [
    "# 2. Introduction: theory and practice"
   ],
   "metadata": {
    "collapsed": false
   }
  },
  {
   "cell_type": "markdown",
   "source": [
    "### 2.2 Fibonacci numbers"
   ],
   "metadata": {
    "collapsed": false,
    "pycharm": {
     "name": "#%% md\n"
    }
   }
  },
  {
   "cell_type": "markdown",
   "source": [
    "#### Task 1\n",
    "\n",
    "Дано целое число $1 \\leq n \\leq 40$, необходимо вычислить $n$-е число Фибоначчи (напомним, что $F_0=0, F_1=1, F_n=F_{n-1}+F_{n-2}$ при $n\\geq2$).\n",
    "\n",
    "**Sample Input**:\n",
    "3\n",
    "\n",
    "**Sample Output**:\n",
    "2\n",
    "\n",
    "**Time Limit**: 3 секунды\n",
    "**Memory Limit**: 256 MB"
   ],
   "metadata": {
    "collapsed": false,
    "pycharm": {
     "name": "#%% md\n"
    }
   }
  },
  {
   "cell_type": "markdown",
   "source": [
    "##### Solution"
   ],
   "metadata": {
    "collapsed": false,
    "pycharm": {
     "name": "#%% md\n"
    }
   }
  },
  {
   "cell_type": "code",
   "execution_count": 4,
   "outputs": [],
   "source": [
    "def fib(n):\n",
    "    fib_values = [1, 1]\n",
    "    for i_n in range(2, n):\n",
    "        fib_values.append(fib_values[i_n-1] + fib_values[i_n-2])\n",
    "    return fib_values[n - 1]\n",
    "\n",
    "def main():\n",
    "    n = int(input())\n",
    "    print(fib(n))"
   ],
   "metadata": {
    "collapsed": false,
    "pycharm": {
     "name": "#%%\n"
    }
   }
  },
  {
   "cell_type": "markdown",
   "source": [
    "##### Checking"
   ],
   "metadata": {
    "collapsed": false,
    "pycharm": {
     "name": "#%% md\n"
    }
   }
  },
  {
   "cell_type": "code",
   "execution_count": 5,
   "outputs": [
    {
     "data": {
      "text/plain": "(1, 1, 2, 6765, 102334155)"
     },
     "execution_count": 5,
     "metadata": {},
     "output_type": "execute_result"
    }
   ],
   "source": [
    "fib(1), fib(2), fib(3), fib(20), fib(40)"
   ],
   "metadata": {
    "collapsed": false,
    "pycharm": {
     "name": "#%%\n"
    }
   }
  },
  {
   "cell_type": "markdown",
   "source": [
    "#### Task 2\n",
    "\n",
    "Дано число $1 \\leq n \\leq 10^7$, необходимо найти последнюю цифру $n$-го числа Фибоначчи.\n",
    "\n",
    "Как мы помним, числа Фибоначчи растут очень быстро, поэтому при их вычислении нужно быть аккуратным с переполнением. В данной задаче, впрочем, этой проблемы можно избежать, поскольку нас интересует только последняя цифра числа Фибоначчи: если $1 \\leq a, b \\leq 9$ — последние цифры чисел $F_i$ и $F_{i+1}$ соответственно, то $(a+b)\\ mod\\ 10$ — последняя цифра числа $F_{i+2}$\n",
    "\n",
    "**Sample Input**:\n",
    "841645\n",
    "\n",
    "**Sample Output**:\n",
    "5\n",
    "\n",
    "**Time Limit**: 3 секунды\n",
    "**Memory Limit**: 256 MB"
   ],
   "metadata": {
    "collapsed": false,
    "pycharm": {
     "name": "#%% md\n"
    }
   }
  },
  {
   "cell_type": "markdown",
   "source": [
    "##### Solution"
   ],
   "metadata": {
    "collapsed": false,
    "pycharm": {
     "name": "#%% md\n"
    }
   }
  },
  {
   "cell_type": "code",
   "execution_count": 6,
   "outputs": [],
   "source": [
    "def fib_digit(n):\n",
    "    n_2 = 1\n",
    "    n_1 = 1\n",
    "    n_0 = (n_2 + n_1) % 10\n",
    "    for i_n in range(2, n):\n",
    "        n_0 = (n_2 + n_1) % 10\n",
    "        n_2 = n_1\n",
    "        n_1 = n_0\n",
    "    return n_0\n",
    "\n",
    "\n",
    "def main():\n",
    "    n = int(input())\n",
    "    print(fib_digit(n))"
   ],
   "metadata": {
    "collapsed": false,
    "pycharm": {
     "name": "#%%\n"
    }
   }
  },
  {
   "cell_type": "markdown",
   "source": [
    "##### Checking"
   ],
   "metadata": {
    "collapsed": false,
    "pycharm": {
     "name": "#%% md\n"
    }
   }
  },
  {
   "cell_type": "code",
   "execution_count": 7,
   "outputs": [
    {
     "data": {
      "text/plain": "5"
     },
     "execution_count": 7,
     "metadata": {},
     "output_type": "execute_result"
    }
   ],
   "source": [
    "fib_digit(841645)"
   ],
   "metadata": {
    "collapsed": false,
    "pycharm": {
     "name": "#%%\n"
    }
   }
  },
  {
   "cell_type": "markdown",
   "source": [
    "#### Task 3\n",
    "\n",
    "Даны целые числа $1 \\leq n \\leq 10^{18}$ и $2 \\leq m \\leq 10^5$, необходимо найти остаток от деления $n$-го числа Фибоначчи на $m$.\n",
    "\n",
    "**Sample Input**:\n",
    "10 2\n",
    "\n",
    "**Sample Output**:\n",
    "1\n",
    "\n",
    "**Time Limit**: 3 секунды\n",
    "**Memory Limit**: 256 MB"
   ],
   "metadata": {
    "collapsed": false,
    "pycharm": {
     "name": "#%% md\n"
    }
   }
  },
  {
   "cell_type": "markdown",
   "source": [
    "##### Solution"
   ],
   "metadata": {
    "collapsed": false,
    "pycharm": {
     "name": "#%% md\n"
    }
   }
  },
  {
   "cell_type": "code",
   "execution_count": 8,
   "outputs": [],
   "source": [
    "def fib_mod(n, m):\n",
    "    v1, v2, v3 = 1, 1, 0\n",
    "\n",
    "    for rec in bin(n)[3:]: # Matrix Exponentiation\n",
    "        calc = (v2*v2) % m\n",
    "        v1, v2, v3 = (v1*v1+calc) % m, ((v1+v3)*v2) % m, (calc+v3*v3) % m\n",
    "        if rec == '1':\n",
    "            v1, v2, v3 = (v1+v2) % m, v1, v2\n",
    "\n",
    "    return v2\n",
    "\n",
    "    # previous solution\n",
    "    # fib_mods = [0, 1]\n",
    "    # prev, curr = 0, 1\n",
    "    #\n",
    "    # for i_n in range(6 * m):\n",
    "    #     prev, curr = curr, (prev + curr) % m\n",
    "    #     fib_mods.append(curr % m)\n",
    "    #     if fib_mods[-1] == 1 and fib_mods[-2] == 0:\n",
    "    #         break\n",
    "    # return fib_mods[n % (len(fib_mods)-2)]\n",
    "\n",
    "\n",
    "def main():\n",
    "    n, m = map(int, input().split())\n",
    "    print(fib_mod(n, m))"
   ],
   "metadata": {
    "collapsed": false,
    "pycharm": {
     "name": "#%%\n"
    }
   }
  },
  {
   "cell_type": "markdown",
   "source": [
    "##### Checking"
   ],
   "metadata": {
    "collapsed": false,
    "pycharm": {
     "name": "#%% md\n"
    }
   }
  },
  {
   "cell_type": "code",
   "execution_count": 9,
   "outputs": [
    {
     "name": "stdout",
     "output_type": "stream",
     "text": [
      "Time spent in fib_mod is 000 ns\n",
      "Time spent in fib_mod is 000 ns\n"
     ]
    },
    {
     "data": {
      "text/plain": "(1, 46875)"
     },
     "execution_count": 9,
     "metadata": {},
     "output_type": "execute_result"
    }
   ],
   "source": [
    "timing(fib_mod, 10, 2), timing(fib_mod, 10**18, 10**5)"
   ],
   "metadata": {
    "collapsed": false,
    "pycharm": {
     "name": "#%%\n"
    }
   }
  },
  {
   "cell_type": "markdown",
   "source": [
    "### 2.3 The greatest common divisor"
   ],
   "metadata": {
    "collapsed": false,
    "pycharm": {
     "name": "#%% md\n"
    }
   }
  },
  {
   "cell_type": "markdown",
   "source": [
    "#### Task 1\n",
    "\n",
    "По данным двум числам $1 \\leq a, b \\leq 2 * 10^9$ найдите их наибольший общий делитель.\n",
    "\n",
    "**Sample Input 1**:\n",
    "18 35\n",
    "\n",
    "**Sample Output 1**:\n",
    "1\n",
    "\n",
    "**Sample Input 2**:\n",
    "14159572 63967072\n",
    "\n",
    "**Sample Output 2**:\n",
    "4\n",
    "\n",
    "**Time Limit**: 3 секунды\n",
    "**Memory Limit**: 256 MB"
   ],
   "metadata": {
    "collapsed": false,
    "pycharm": {
     "name": "#%% md\n"
    }
   }
  },
  {
   "cell_type": "markdown",
   "source": [
    "##### Solution"
   ],
   "metadata": {
    "collapsed": false,
    "pycharm": {
     "name": "#%% md\n"
    }
   }
  },
  {
   "cell_type": "code",
   "execution_count": 10,
   "outputs": [],
   "source": [
    "def gcd(a, b):\n",
    "    if a == 0:\n",
    "        return b\n",
    "    if b == 0:\n",
    "        return a\n",
    "    if a >= b:\n",
    "        return gcd(a % b, b)\n",
    "    if b >= a:\n",
    "        return gcd(a, b % a)\n",
    "\n",
    "\n",
    "def main():\n",
    "    a, b = map(int, input().split())\n",
    "    print(gcd(a, b))"
   ],
   "metadata": {
    "collapsed": false,
    "pycharm": {
     "name": "#%%\n"
    }
   }
  },
  {
   "cell_type": "markdown",
   "source": [
    "##### Checking"
   ],
   "metadata": {
    "collapsed": false,
    "pycharm": {
     "name": "#%% md\n"
    }
   }
  },
  {
   "cell_type": "code",
   "execution_count": 11,
   "outputs": [
    {
     "name": "stdout",
     "output_type": "stream",
     "text": [
      "Time spent in gcd is 000 ns\n"
     ]
    },
    {
     "data": {
      "text/plain": "(1, 4)"
     },
     "execution_count": 11,
     "metadata": {},
     "output_type": "execute_result"
    }
   ],
   "source": [
    "gcd(18, 35), timing(gcd, 14159572, 63967072)"
   ],
   "metadata": {
    "collapsed": false,
    "pycharm": {
     "name": "#%%\n"
    }
   }
  },
  {
   "cell_type": "markdown",
   "source": [
    "### 2.4 O-notation\n",
    "\n",
    "Completed (without code)"
   ],
   "metadata": {
    "collapsed": false
   }
  },
  {
   "cell_type": "markdown",
   "source": [
    "# 4. Greedy algorithms. Theory and Problems"
   ],
   "metadata": {
    "collapsed": false,
    "pycharm": {
     "name": "#%% md\n"
    }
   }
  },
  {
   "cell_type": "markdown",
   "source": [
    "### 4.1 Introduction"
   ],
   "metadata": {
    "collapsed": false,
    "pycharm": {
     "name": "#%% md\n"
    }
   }
  },
  {
   "cell_type": "markdown",
   "source": [
    "#### Task 1\n",
    "\n",
    "По данным $n$ отрезкам необходимо найти множество точек минимального размера, для которого каждый из отрезков содержит хотя бы одну из точек.\n",
    "\n",
    "В первой строке дано число $1 \\leq n \\leq 100$ отрезков. Каждая из последующих $n$ строк содержит по два числа $0 \\leq l \\leq r \\leq 10^9$, задающих начало и конец отрезка. Выведите оптимальное число $m$ точек и сами $m$ точек. Если таких множеств точек несколько, выведите любое из них.\n",
    "\n",
    "**Sample Input 1**:\n",
    "3\n",
    "1 3\n",
    "2 5\n",
    "3 6\n",
    "\n",
    "**Sample Output 1**:\n",
    "1\n",
    "3\n",
    "\n",
    "**Sample Input 2**:\n",
    "4\n",
    "4 7\n",
    "1 3\n",
    "2 5\n",
    "5 6\n",
    "\n",
    "**Sample Output 2**:\n",
    "2\n",
    "3 6\n",
    "\n",
    "**Time Limit**: 1 секунда\n",
    "**Memory Limit**: 256 MB"
   ],
   "metadata": {
    "collapsed": false
   }
  },
  {
   "cell_type": "code",
   "source": [
    "def task_4_1_1(segments: list) -> list:\n",
    "    segments = sorted(segments, key=lambda x: x[1])\n",
    "    points = [segments.pop(0)[1]]\n",
    "    while len(segments) > 0:\n",
    "        segment = segments.pop(0)\n",
    "        if points[-1] < segment[0]:\n",
    "            points.append(segment[1])\n",
    "    return points\n",
    "\n",
    "def main():\n",
    "    segments_count = int(input())\n",
    "    segments = []\n",
    "    for _ in range(segments_count):\n",
    "        segments.append(\n",
    "            [int(point) for point in input().split()])\n",
    "    points = task_4_1_1(segments)\n",
    "    print(len(points))\n",
    "    print(' '.join(map(str, points)))"
   ],
   "metadata": {
    "collapsed": false,
    "pycharm": {
     "name": "#%%\n"
    }
   },
   "execution_count": 12,
   "outputs": []
  },
  {
   "cell_type": "code",
   "execution_count": 13,
   "outputs": [
    {
     "data": {
      "text/plain": "([3], [3, 6])"
     },
     "execution_count": 13,
     "metadata": {},
     "output_type": "execute_result"
    }
   ],
   "source": [
    "task_4_1_1([[1, 3], [2, 5], [3, 6]]), task_4_1_1([[4, 7], [1, 3], [2, 5], [5, 6]])"
   ],
   "metadata": {
    "collapsed": false,
    "pycharm": {
     "name": "#%%\n"
    }
   }
  },
  {
   "cell_type": "markdown",
   "source": [
    "#### Task 2\n",
    "\n",
    "Первая строка содержит количество предметов $1 \\leq n \\leq 10^3$ и вместимость рюкзака $0 \\leq W \\leq 2 * 10^6$. Каждая из следующих $n$ строк задаёт стоимость $0 \\leq c_i \\leq 2 * 10^6$ и объём $0 \\lt w_i \\leq 2 * 10^6$ предмета ($n, W, c_i, w_i$ — целые числа). Выведите максимальную стоимость частей предметов (от каждого предмета можно отделить любую часть, стоимость и объём при этом пропорционально уменьшатся), помещающихся в данный рюкзак, с точностью не менее трёх знаков после запятой.\n",
    "\n",
    "**Sample Input**:\n",
    "3 50\n",
    "60 20\n",
    "100 50\n",
    "120 30\n",
    "\n",
    "**Sample Output**:\n",
    "180.000\n",
    "\n",
    "**Time Limit**: 5 секунд\n",
    "**Memory Limit**: 256 MB"
   ],
   "metadata": {
    "collapsed": false,
    "pycharm": {
     "name": "#%% md\n"
    }
   }
  },
  {
   "cell_type": "code",
   "execution_count": 14,
   "outputs": [],
   "source": [
    "def task_4_1_2(items: list, backpack_size: int) -> list:\n",
    "    items = sorted(items, key=lambda x: -x[0])\n",
    "    backpack = 0\n",
    "    left = backpack_size\n",
    "    while left > 0 and len(items) > 0:\n",
    "        cost, weight = items.pop(0)\n",
    "        if weight > left:\n",
    "            backpack += cost * left\n",
    "        else:\n",
    "            backpack += cost * weight\n",
    "        left -= weight\n",
    "    return backpack\n",
    "\n",
    "def main():\n",
    "    item_count, backpack_size = map(int, input().split())\n",
    "    items_cost = []\n",
    "    for _ in range(item_count):\n",
    "        cost, weight = map(int, input().split())\n",
    "        items_cost.append([cost / weight, weight])\n",
    "    print(f'{task_4_1_2(items_cost, backpack_size): .3f}')"
   ],
   "metadata": {
    "collapsed": false,
    "pycharm": {
     "name": "#%%\n"
    }
   }
  },
  {
   "cell_type": "code",
   "execution_count": 15,
   "outputs": [
    {
     "data": {
      "text/plain": "(180.0, 280.0)"
     },
     "execution_count": 15,
     "metadata": {},
     "output_type": "execute_result"
    }
   ],
   "source": [
    "task_4_1_2([[3.0, 20], [2.0, 50], [4.0, 30]], 50), task_4_1_2([[3.0, 20], [2.0, 50], [4.0, 30]], 500)"
   ],
   "metadata": {
    "collapsed": false,
    "pycharm": {
     "name": "#%%\n"
    }
   }
  },
  {
   "cell_type": "markdown",
   "source": [
    "#### Task 3\n",
    "\n",
    "По данному числу $1 \\leq n \\leq 10^9$ найдите максимальное число $k$, для которого $n$ можно представить как сумму $k$ различных натуральных слагаемых. Выведите в первой строке число $k$, во второй — $k$ слагаемых.\n",
    "\n",
    "**Sample Input 1**:\n",
    "4\n",
    "\n",
    "**Sample Output 1**:\n",
    "2\n",
    "1 3\n",
    "\n",
    "**Sample Input 2**:\n",
    "6\n",
    "\n",
    "**Sample Output 2**:\n",
    "3\n",
    "1 2 3\n",
    "\n",
    "**Time Limit**: 5 секунд\n",
    "**Memory Limit**: 256 MB"
   ],
   "metadata": {
    "collapsed": false,
    "pycharm": {
     "name": "#%% md\n"
    }
   }
  },
  {
   "cell_type": "code",
   "execution_count": 16,
   "outputs": [],
   "source": [
    "def task_4_1_3(value: int) -> list:\n",
    "    if value in [1, 2]:\n",
    "        return [value]\n",
    "    sums = []\n",
    "    left = value\n",
    "    for i in range(1, value + 1):\n",
    "        if left >= 2*i + 1:\n",
    "            sums.append(i)\n",
    "            left -= i\n",
    "        else:\n",
    "            sums.append(left)\n",
    "            break\n",
    "\n",
    "    return sums\n",
    "\n",
    "def main():\n",
    "    sums = task_4_1_3(int(input()))\n",
    "    print(len(sums))\n",
    "    print(' '.join(map(str, sums)))"
   ],
   "metadata": {
    "collapsed": false,
    "pycharm": {
     "name": "#%%\n"
    }
   }
  },
  {
   "cell_type": "code",
   "execution_count": 17,
   "outputs": [
    {
     "data": {
      "text/plain": "([1, 3], [1, 2, 3, 8], [1, 2, 3, 4, 5], [1, 2, 6], [1, 2, 3])"
     },
     "execution_count": 17,
     "metadata": {},
     "output_type": "execute_result"
    }
   ],
   "source": [
    "task_4_1_3(4), task_4_1_3(14), task_4_1_3(15), task_4_1_3(9), task_4_1_3(6)"
   ],
   "metadata": {
    "collapsed": false,
    "pycharm": {
     "name": "#%%\n"
    }
   }
  },
  {
   "cell_type": "markdown",
   "source": [
    "### 4.2 Huffman Codes"
   ],
   "metadata": {
    "collapsed": false,
    "pycharm": {
     "name": "#%% md\n"
    }
   }
  },
  {
   "cell_type": "markdown",
   "source": [
    "#### Task 1\n",
    "\n",
    "По данной непустой строке ss длины не более $10^4$, состоящей из строчных букв латинского алфавита, постройте оптимальный беспрефиксный код. В первой строке выведите количество различных букв $k$, встречающихся в строке, и размер получившейся закодированной строки. В следующих kk строках запишите коды букв в формате \"letter: code\". В последней строке выведите закодированную строку.\n",
    "\n",
    "**Sample Input 1**:\n",
    "a\n",
    "\n",
    "**Sample Output 1**:\n",
    "1 1\n",
    "a: 0\n",
    "0\n",
    "\n",
    "**Sample Input 2**:\n",
    "abacabad\n",
    "\n",
    "**Sample Output 2**:\n",
    "4 14\n",
    "a: 0\n",
    "b: 10\n",
    "c: 110\n",
    "d: 111\n",
    "01001100100111\n",
    "\n",
    "**Time Limit**: 5 секунд\n",
    "**Memory Limit**: 256 MB"
   ],
   "metadata": {
    "collapsed": false
   }
  },
  {
   "cell_type": "code",
   "execution_count": 104,
   "outputs": [],
   "source": [
    "def task_4_2_1(string: str):\n",
    "\n",
    "    def encode():\n",
    "        result = \"\"\n",
    "        for ch in string:\n",
    "            result += haff[ch]\n",
    "        return result\n",
    "\n",
    "    chars = sorted(set(string))\n",
    "    if len(chars) == 1:\n",
    "        haff = {chars[0]: \"0\"}\n",
    "        return haff, encode()\n",
    "\n",
    "    ch_sort = [(ch, string.count(ch)) for ch in set(string)]\n",
    "    ch_sort.sort(key=lambda x: x[1])\n",
    "    haff = {ch: \"\" for ch in chars}\n",
    "\n",
    "    freq = []\n",
    "    while len(ch_sort) > 1:\n",
    "        l = ch_sort.pop(0)\n",
    "        r = ch_sort.pop(0)\n",
    "        freq.append((r[0], 0))\n",
    "        freq.append((l[0], 1))\n",
    "        ch_sort = [(r[0] + l[0], l[1] + r[1])] + ch_sort\n",
    "        ch_sort.sort(key=lambda x: x[1])\n",
    "\n",
    "    for str_, val in freq[::-1]:\n",
    "        for ch in str_:\n",
    "            haff[ch] += str(val)\n",
    "    return haff, encode()\n",
    "\n",
    "def main_4_2_1():\n",
    "    d_haff, encode_str = task_4_2_1(input())\n",
    "    print(len(d_haff), len(encode_str))\n",
    "    for k, v in d_haff.items():\n",
    "        print(k, v)\n",
    "    print(encode_str)"
   ],
   "metadata": {
    "collapsed": false,
    "pycharm": {
     "name": "#%%\n"
    }
   }
  },
  {
   "cell_type": "code",
   "execution_count": 105,
   "outputs": [
    {
     "name": "stdout",
     "output_type": "stream",
     "text": [
      "[('c', 0), ('d', 1), ('b', 0), ('cd', 1), ('a', 0), ('bcd', 1)]\n"
     ]
    },
    {
     "data": {
      "text/plain": "(({'a': '0', 'b': '10', 'c': '110', 'd': '111'}, '01001100100111'),\n ({'a': '0'}, '0'))"
     },
     "execution_count": 105,
     "metadata": {},
     "output_type": "execute_result"
    }
   ],
   "source": [
    "task_4_2_1(\"abacabad\"), task_4_2_1(\"a\")"
   ],
   "metadata": {
    "collapsed": false,
    "pycharm": {
     "name": "#%%\n"
    }
   }
  },
  {
   "cell_type": "code",
   "execution_count": 97,
   "outputs": [
    {
     "name": "stdout",
     "output_type": "stream",
     "text": [
      "4 14\n",
      "a 1\n",
      "b 10\n",
      "c 100\n",
      "d 000\n",
      "11011001000110\n"
     ]
    }
   ],
   "source": [
    "main_4_2_1()"
   ],
   "metadata": {
    "collapsed": false,
    "pycharm": {
     "name": "#%%\n"
    }
   }
  },
  {
   "cell_type": "markdown",
   "source": [
    "#### Task 2\n",
    "\n",
    "Восстановите строку по её коду и беспрефиксному коду символов.\n",
    "\n",
    "В первой строке входного файла заданы два целых числа $k$ и $l$ через пробел — количество различных букв, встречающихся в строке, и размер получившейся закодированной строки, соответственно. В следующих $k$ строках записаны коды букв в формате \"letter: code\". Ни один код не является префиксом другого. Буквы могут быть перечислены в любом порядке. В качестве букв могут встречаться лишь строчные буквы латинского алфавита; каждая из этих букв встречается в строке хотя бы один раз. Наконец, в последней строке записана закодированная строка. Исходная строка и коды всех букв непусты. Заданный код таков, что закодированная строка имеет минимальный возможный размер.\n",
    "\n",
    "\n",
    "В первой строке выходного файла выведите строку ss. Она должна состоять из строчных букв латинского алфавита. Гарантируется, что длина правильного ответа не превосходит $10^4$ символов.\n",
    "\n",
    "**Sample Input 1**:\n",
    "1 1\n",
    "a: 0\n",
    "0\n",
    "\n",
    "**Sample Output 1**:\n",
    "a\n",
    "\n",
    "**Sample Input 2**:\n",
    "4 14\n",
    "a: 0\n",
    "b: 10\n",
    "c: 110\n",
    "d: 111\n",
    "01001100100111\n",
    "\n",
    "**Sample Output 2**:\n",
    "abacabad\n",
    "\n",
    "**Time Limit**: 5 секунд\n",
    "**Memory Limit**: 256 MB"
   ],
   "metadata": {
    "collapsed": false,
    "pycharm": {
     "name": "#%% md\n"
    }
   }
  },
  {
   "cell_type": "code",
   "execution_count": 117,
   "outputs": [],
   "source": [
    "def task_4_2_2(haff: dict, string: str):\n",
    "    result = \"\"\n",
    "    key = \"\"\n",
    "    for ch in string:\n",
    "        key += ch\n",
    "        if key in haff:\n",
    "            result += haff[key]\n",
    "            key = \"\"\n",
    "    return result\n",
    "\n",
    "def main_4_2_2():\n",
    "    len_haff, len_str = tuple(map(int, input().split()))\n",
    "    haff = {}\n",
    "    for _ in range(len_haff):\n",
    "        ch, code = input().split()\n",
    "        haff[code] = ch[:-1]\n",
    "    string = input()\n",
    "    print(task_4_2_2(haff, string))"
   ],
   "metadata": {
    "collapsed": false,
    "pycharm": {
     "name": "#%%\n"
    }
   }
  },
  {
   "cell_type": "code",
   "execution_count": 118,
   "outputs": [
    {
     "data": {
      "text/plain": "'abacabad'"
     },
     "execution_count": 118,
     "metadata": {},
     "output_type": "execute_result"
    }
   ],
   "source": [
    "task_4_2_2({'0': 'a', '10': 'b', '110': 'c', '111': 'd'}, \"01001100100111\")"
   ],
   "metadata": {
    "collapsed": false,
    "pycharm": {
     "name": "#%%\n"
    }
   }
  },
  {
   "cell_type": "code",
   "execution_count": null,
   "outputs": [],
   "source": [],
   "metadata": {
    "collapsed": false,
    "pycharm": {
     "name": "#%%\n"
    }
   }
  }
 ],
 "metadata": {
  "kernelspec": {
   "display_name": "Python 3",
   "language": "python",
   "name": "python3"
  },
  "language_info": {
   "codemirror_mode": {
    "name": "ipython",
    "version": 2
   },
   "file_extension": ".py",
   "mimetype": "text/x-python",
   "name": "python",
   "nbconvert_exporter": "python",
   "pygments_lexer": "ipython2",
   "version": "2.7.6"
  }
 },
 "nbformat": 4,
 "nbformat_minor": 0
}